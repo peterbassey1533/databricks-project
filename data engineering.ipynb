{
 "cells": [
  {
   "cell_type": "code",
   "execution_count": 0,
   "metadata": {
    "application/vnd.databricks.v1+cell": {
     "cellMetadata": {
      "byteLimit": 2048000,
      "implicitDf": true,
      "rowLimit": 10000
     },
     "inputWidgets": {},
     "nuid": "6fb3b65d-5eb6-47f2-9832-b50185adf1e7",
     "showTitle": false,
     "tableResultSettingsMap": {},
     "title": ""
    }
   },
   "outputs": [],
   "source": [
    "%sql\n",
    "create catalog if not exists dev2\n",
    "managed location 'abfss://unity-catalog-storage@dbstorageffygriwrcxej6.dfs.core.windows.net/1140122096371529' "
   ]
  },
  {
   "cell_type": "code",
   "execution_count": 0,
   "metadata": {
    "application/vnd.databricks.v1+cell": {
     "cellMetadata": {
      "byteLimit": 2048000,
      "implicitDf": true,
      "rowLimit": 10000
     },
     "inputWidgets": {},
     "nuid": "0361785e-9a60-4e7a-8fce-a161342c3f28",
     "showTitle": false,
     "tableResultSettingsMap": {},
     "title": ""
    }
   },
   "outputs": [],
   "source": [
    "%sql\n",
    "create database if not exists coures_ws.demodb"
   ]
  },
  {
   "cell_type": "code",
   "execution_count": 0,
   "metadata": {
    "application/vnd.databricks.v1+cell": {
     "cellMetadata": {
      "byteLimit": 2048000,
      "implicitDf": true,
      "rowLimit": 10000
     },
     "inputWidgets": {},
     "nuid": "b6e7615a-797f-42c9-be51-df73c498926b",
     "showTitle": false,
     "tableResultSettingsMap": {},
     "title": ""
    }
   },
   "outputs": [],
   "source": [
    "%sql\n",
    "drop database if exists dev2.default cascade\n",
    "    "
   ]
  },
  {
   "cell_type": "code",
   "execution_count": 0,
   "metadata": {
    "application/vnd.databricks.v1+cell": {
     "cellMetadata": {
      "byteLimit": 2048000,
      "rowLimit": 10000
     },
     "inputWidgets": {},
     "nuid": "56063ac2-70d8-4581-9934-4caf76468a5f",
     "showTitle": false,
     "tableResultSettingsMap": {},
     "title": ""
    }
   },
   "outputs": [],
   "source": [
    "flight_schema_ddl = \"\"\"FL_DATE DATE, OP_CARRIER STRING, OP_CARRIER_FL_NUM INT, ORIGIN STRING, \n",
    "          ORIGIN_CITY_NAME STRING, DEST STRING, DEST_CITY_NAME STRING, CRS_DEP_TIME INT, DEP_TIME INT, \n",
    "          WHEELS_ON INT, TAXI_IN INT, CRS_ARR_TIME INT, ARR_TIME INT, CANCELLED STRING, DISTANCE INT\"\"\"\n",
    "flight_time_dt = spark.read.format('json').schema(flight_schema_ddl).option(\"dateFormat\", \"M/d/y\").load('abfss://dbfs-container@peterbassey.dfs.core.windows.net/external/CH7-Data Files/dataset_ch7/flight-time.json')\n"
   ]
  },
  {
   "cell_type": "code",
   "execution_count": 0,
   "metadata": {
    "application/vnd.databricks.v1+cell": {
     "cellMetadata": {
      "byteLimit": 2048000,
      "rowLimit": 10000
     },
     "inputWidgets": {},
     "nuid": "93f54e29-344c-4f1c-a09f-6bd8c741cee8",
     "showTitle": false,
     "tableResultSettingsMap": {},
     "title": ""
    }
   },
   "outputs": [],
   "source": [
    "display(flight_time_dt)"
   ]
  },
  {
   "cell_type": "code",
   "execution_count": 0,
   "metadata": {
    "application/vnd.databricks.v1+cell": {
     "cellMetadata": {
      "byteLimit": 2048000,
      "implicitDf": true,
      "rowLimit": 10000
     },
     "inputWidgets": {},
     "nuid": "47c6fe6e-8c33-43ed-866b-bae8bdbd69d8",
     "showTitle": false,
     "tableResultSettingsMap": {},
     "title": ""
    }
   },
   "outputs": [],
   "source": [
    "%sql\n",
    "CREATE TABLE IF NOT EXISTS coures_ws.demodb.flight_time_tbl (\n",
    "    FL_DATE DATE, \n",
    "    OP_CARRIER STRING, \n",
    "    OP_CARRIER_FL_NUM INT, \n",
    "    ORIGIN STRING, \n",
    "    ORIGIN_CITY_NAME STRING, \n",
    "    DEST STRING, \n",
    "    DEST_CITY_NAME STRING, \n",
    "    CRS_DEP_TIME INT, \n",
    "    DEP_TIME INT, \n",
    "    WHEELS_ON INT, \n",
    "    TAXI_IN INT, \n",
    "    CRS_ARR_TIME INT, \n",
    "    ARR_TIME INT, \n",
    "    CANCELLED STRING, \n",
    "    DISTANCE INT\n",
    ") USING DELTA"
   ]
  },
  {
   "cell_type": "markdown",
   "metadata": {
    "application/vnd.databricks.v1+cell": {
     "cellMetadata": {},
     "inputWidgets": {},
     "nuid": "82fe1bae-68a8-4624-bb4a-99b7e800b900",
     "showTitle": false,
     "tableResultSettingsMap": {},
     "title": ""
    }
   },
   "source": [
    "LOAD DATA INTO DELTA TABLE"
   ]
  },
  {
   "cell_type": "code",
   "execution_count": 0,
   "metadata": {
    "application/vnd.databricks.v1+cell": {
     "cellMetadata": {
      "byteLimit": 2048000,
      "rowLimit": 10000
     },
     "inputWidgets": {},
     "nuid": "c18c12cd-d4db-4595-9aeb-3626612b5cbc",
     "showTitle": false,
     "tableResultSettingsMap": {},
     "title": ""
    }
   },
   "outputs": [],
   "source": [
    "flight_time_dt.write.format(\"delta\").mode(\"append\").saveAsTable(\"coures_ws.demodb.flight_time_tbl\")"
   ]
  },
  {
   "cell_type": "code",
   "execution_count": 0,
   "metadata": {
    "application/vnd.databricks.v1+cell": {
     "cellMetadata": {
      "byteLimit": 2048000,
      "rowLimit": 10000
     },
     "inputWidgets": {},
     "nuid": "6b3587a1-d198-468c-95ff-59cae0fa5395",
     "showTitle": false,
     "tableResultSettingsMap": {},
     "title": ""
    }
   },
   "outputs": [],
   "source": [
    "flight_time_tbl = spark.read.table(\"coures_ws.demodb.flight_time_tbl\")\n",
    "display(flight_time_tbl)"
   ]
  },
  {
   "cell_type": "markdown",
   "metadata": {
    "application/vnd.databricks.v1+cell": {
     "cellMetadata": {},
     "inputWidgets": {},
     "nuid": "f69ff8bb-62a9-4cfd-afd2-bb6b4bd27681",
     "showTitle": false,
     "tableResultSettingsMap": {},
     "title": ""
    }
   },
   "source": [
    "CREATE A DELTA TABLE USING DELTATABLE API"
   ]
  },
  {
   "cell_type": "code",
   "execution_count": 0,
   "metadata": {
    "application/vnd.databricks.v1+cell": {
     "cellMetadata": {
      "byteLimit": 2048000,
      "rowLimit": 10000
     },
     "inputWidgets": {},
     "nuid": "d21f582c-c245-407d-bd32-1dc649711c43",
     "showTitle": false,
     "tableResultSettingsMap": {},
     "title": ""
    }
   },
   "outputs": [],
   "source": [
    "(spark.read\n",
    "    .format(\"delta\")\n",
    "    .load(\"abfss://dbfs-container@peterbassey.dfs.core.windows.net/external/CH7-Data Files/dataset_ch7/flight-time\")\n",
    "    .display()\n",
    ")\n",
    "\n",
    "\n",
    "\n",
    "from delta import DeltaTable\n",
    "\n",
    "(DeltaTable.createOrReplace(spark)\n",
    "    .tableName(\"coures_ws.demodb.flight_time_tbl\")\n",
    "    .addColumn(\"id\", \"INT\")\n",
    "    .addColumn(\"FL_DATE\", \"DATE\")\n",
    "    .addColumn(\"OP_CARRIER\", \"STRING\")\n",
    "    .addColumn(\"OP_CARRIER_FL_NUM\", \"INT\")\n",
    "    .addColumn(\"ORIGIN\", \"STRING\")\n",
    "    .addColumn(\"ORIGIN_CITY_NAME\", \"STRING\")\n",
    "    .addColumn(\"DEST\", \"STRING\") \n",
    "    .addColumn(\"DEST_CITY_NAME\", \"STRING\")\n",
    "    .addColumn(\"CRS_DEP_TIME\", \"INT\")\n",
    "    .addColumn(\"DEP_TIME\", \"INT\")\n",
    "    .addColumn(\"WHEELS_ON\", \"INT\")\n",
    "    .addColumn(\"TAXI_IN\", \"INT\")\n",
    "    .addColumn(\"CRS_ARR_TIME\", \"INT\")\n",
    "    .addColumn(\"ARR_TIME\", \"INT\")\n",
    "    .addColumn(\"CANCELLED\", \"STRING\")\n",
    "    .addColumn(\"DISTANCE\", \"INT\")\n",
    "    .execute()\n",
    ")"
   ]
  },
  {
   "cell_type": "code",
   "execution_count": 0,
   "metadata": {
    "application/vnd.databricks.v1+cell": {
     "cellMetadata": {
      "byteLimit": 2048000,
      "implicitDf": true,
      "rowLimit": 10000
     },
     "inputWidgets": {},
     "nuid": "e88c49a6-8d35-4153-8cc9-1293d99360b4",
     "showTitle": false,
     "tableResultSettingsMap": {},
     "title": ""
    }
   },
   "outputs": [],
   "source": [
    "%python\n",
    "# Read the file into a DataFrame\n",
    "df = spark.read.format(\"delta\").option(\"header\", \"true\").load(\"abfss://dbfs-container@peterbassey.dfs.core.windows.net/external/CH7-Data Files/dataset_ch7/flight-time\")\n",
    "\n",
    "# Register the DataFrame as a temporary view\n",
    "df.createOrReplaceTempView(\"flight_time\")\n",
    "\n",
    "# Query the temporary view using SQL\n",
    "result = spark.sql(\"SELECT * FROM flight_time\")\n",
    "\n",
    "# Display the result\n",
    "display(result)"
   ]
  },
  {
   "cell_type": "code",
   "execution_count": 0,
   "metadata": {
    "application/vnd.databricks.v1+cell": {
     "cellMetadata": {
      "byteLimit": 2048000,
      "rowLimit": 10000
     },
     "inputWidgets": {},
     "nuid": "fec4afb7-55f5-492d-842d-242f069136a3",
     "showTitle": false,
     "tableResultSettingsMap": {},
     "title": ""
    }
   },
   "outputs": [],
   "source": [
    "(flight_time_dt.coalesce(1)\n",
    "    .write\n",
    "    .format(\"delta\")\n",
    "    .mode(\"overwrite\")\n",
    "    .save(\"abfss://dbfs-container@peterbassey.dfs.core.windows.net/external/CH7-Data Files/dataset_ch7/flight-time\")\n",
    ")"
   ]
  },
  {
   "cell_type": "code",
   "execution_count": 0,
   "metadata": {
    "application/vnd.databricks.v1+cell": {
     "cellMetadata": {
      "byteLimit": 2048000,
      "rowLimit": 10000
     },
     "inputWidgets": {},
     "nuid": "be50117d-4a19-42e5-97a3-03379393ce3f",
     "showTitle": false,
     "tableResultSettingsMap": {},
     "title": ""
    }
   },
   "outputs": [],
   "source": [
    "%python\n",
    "dbutils.fs.ls(\"abfss://dbfs-container@peterbassey.dfs.core.windows.net/external/CH7-Data Files/dataset_ch7/flight-time/part-00000-84d9fbd7-b79c-41ea-99ad-5820fba3f4b7-c000.snappy.parquet\")"
   ]
  },
  {
   "cell_type": "markdown",
   "metadata": {
    "application/vnd.databricks.v1+cell": {
     "cellMetadata": {},
     "inputWidgets": {},
     "nuid": "8a4e3bce-737f-4976-bb78-a4dd75656074",
     "showTitle": false,
     "tableResultSettingsMap": {},
     "title": ""
    }
   },
   "source": [
    "READ DELTA TABLE USING SQL AND DATAFRAME API"
   ]
  },
  {
   "cell_type": "code",
   "execution_count": 0,
   "metadata": {
    "application/vnd.databricks.v1+cell": {
     "cellMetadata": {
      "byteLimit": 2048000,
      "implicitDf": true,
      "rowLimit": 10000
     },
     "inputWidgets": {},
     "nuid": "1eed1157-e0df-4af0-8986-05534f0e1f4e",
     "showTitle": false,
     "tableResultSettingsMap": {},
     "title": ""
    }
   },
   "outputs": [],
   "source": [
    "%sql\n",
    "select * from coures_ws.demodb.flight_time_tbl"
   ]
  },
  {
   "cell_type": "code",
   "execution_count": 0,
   "metadata": {
    "application/vnd.databricks.v1+cell": {
     "cellMetadata": {
      "byteLimit": 2048000,
      "rowLimit": 10000
     },
     "inputWidgets": {},
     "nuid": "8c988d46-08e8-4791-9280-1b286305fa20",
     "showTitle": false,
     "tableResultSettingsMap": {},
     "title": ""
    }
   },
   "outputs": [],
   "source": [
    "spark.read.format(\"delta\").table(\"coures_ws.demodb.flight_time_tbl\").display()"
   ]
  },
  {
   "cell_type": "markdown",
   "metadata": {
    "application/vnd.databricks.v1+cell": {
     "cellMetadata": {},
     "inputWidgets": {},
     "nuid": "d9e5d392-eb53-4d32-9f81-7b9e0ac3d57a",
     "showTitle": false,
     "tableResultSettingsMap": {},
     "title": ""
    }
   },
   "source": [
    "READ EXTERNAL DATA USING DATAFRAM API"
   ]
  },
  {
   "cell_type": "code",
   "execution_count": 0,
   "metadata": {
    "application/vnd.databricks.v1+cell": {
     "cellMetadata": {
      "byteLimit": 2048000,
      "rowLimit": 10000
     },
     "inputWidgets": {},
     "nuid": "3955b024-8e1d-4d81-82bf-394ee951b369",
     "showTitle": false,
     "tableResultSettingsMap": {},
     "title": ""
    }
   },
   "outputs": [],
   "source": [
    "(spark.read\n",
    "    .format(\"delta\")\n",
    "    .load(\"abfss://dbfs-container@peterbassey.dfs.core.windows.net/external/CH7-Data Files/dataset_ch7/flight-time\")\n",
    "    .display()\n",
    ")"
   ]
  },
  {
   "cell_type": "markdown",
   "metadata": {
    "application/vnd.databricks.v1+cell": {
     "cellMetadata": {},
     "inputWidgets": {},
     "nuid": "3721c348-8339-45de-9aec-8538d2187eef",
     "showTitle": false,
     "tableResultSettingsMap": {},
     "title": ""
    }
   },
   "source": [
    "DELETE ONE RECORD FROM TABLE USING DELTATABLE API"
   ]
  },
  {
   "cell_type": "code",
   "execution_count": 0,
   "metadata": {
    "application/vnd.databricks.v1+cell": {
     "cellMetadata": {
      "byteLimit": 2048000,
      "rowLimit": 10000
     },
     "inputWidgets": {},
     "nuid": "a6048ad8-5e0c-4a64-885f-ce2ac372333b",
     "showTitle": false,
     "tableResultSettingsMap": {},
     "title": ""
    }
   },
   "outputs": [],
   "source": [
    "from delta import DeltaTable\n",
    "\n",
    "people_dt = DeltaTable.forName(spark, \"coures_ws.demodb.people\") if DeltaTable.isDeltaTable(spark, \"coures_ws.demodb.people\") else None\n",
    "if people_dt is not None: people_dt.delete(\"firstName = 'abdul'\")"
   ]
  }
 ],
 "metadata": {
  "application/vnd.databricks.v1+notebook": {
   "computePreferences": null,
   "dashboards": [],
   "environmentMetadata": {
    "base_environment": "",
    "environment_version": "2"
   },
   "inputWidgetPreferences": null,
   "language": "python",
   "notebookMetadata": {
    "mostRecentlyExecutedCommandWithImplicitDF": {
     "commandId": 5773353500969431,
     "dataframes": [
      "_sqldf"
     ]
    },
    "pythonIndentUnit": 4
   },
   "notebookName": "data engineering",
   "widgets": {}
  },
  "language_info": {
   "name": "python"
  }
 },
 "nbformat": 4,
 "nbformat_minor": 0
}
